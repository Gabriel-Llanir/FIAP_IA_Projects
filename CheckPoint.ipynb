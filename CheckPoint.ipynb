{
  "cells": [
    {
      "cell_type": "markdown",
      "metadata": {
        "id": "HRY9r1Ig0Y3Z"
      },
      "source": [
        "## Aprendizagem de máquina\n",
        "\n",
        "### Objetivos\n",
        "\n",
        "  - Avaliar os conceitos de aprendizado de maquina aprendidos no curso\n"
      ]
    },
    {
      "cell_type": "markdown",
      "metadata": {
        "id": "SkYW2OWw0Y3c"
      },
      "source": [
        "# Desafio\n",
        "\n",
        "Você foi contratado por uma empresa inovadora do ramo imobiliario como `QuintoAndar, Loft, Terraz, grupo Zap (ZAP, Viva Real, DataZAP, FipeZAP, SuaHouse, Geoimóvel, Sub100 e Conecta Imobi) ou Imobi Conference`. O seu desafio está no apio à tomada de decisão baseada em dados (empresa data driven). \n",
        "\n",
        "Nesse sentido, use a base de dados **aptos.csv** para realizar a descoberta do conhecimento e responder a pergunta: \n",
        "\n",
        "**`Quanto vale um apartamento de 72m2 com 2 quartos, 2 vagas, reformado no Centro?`**\n"
      ]
    },
    {
      "cell_type": "markdown",
      "metadata": {
        "id": "GynybEuO0Y3d"
      },
      "source": [
        "### Orientações\n",
        "\n",
        "Siga as instruções, completando e construindo os algoritmos necessários.\n",
        "\n",
        "Nas celulas` Seu Código aqui...` significa que é necessário realizar a implementação de algum código. Utilize quantos blocos(células) julgar necessário para criar o código.\n",
        "\n",
        "Nas celulas `Responda` significa que é nessário uma resposta clara e objetiva (pode ser por texto, código, gráfico, imagem...) para a pergunta."
      ]
    },
    {
      "cell_type": "markdown",
      "metadata": {
        "id": "84a92ENP0Y3d"
      },
      "source": [
        "## Rubrica para avaliação\n",
        "    \n",
        "Os critérios de avaliação do projeto segue conforme a rubrica.\n",
        "\n",
        "- R1: Exploração de Dados (Até 2 pontos)\n",
        "- R2: Análise Descritiva de Dados (Até 2 pontos)\n",
        "- R3: Desenvolvimento do Modelo (Até 2 pontos)\n",
        "- R4: Treinamento e Teste do Modelo (Até 2 pontos)\n",
        "- R5: Conclusões Finais (Até 2 pontos)\n",
        "\n",
        "**Nota_final = R1 + R2 + R3 + R4 + R5**"
      ]
    },
    {
      "cell_type": "code",
      "execution_count": 123,
      "metadata": {
        "id": "YSENK3Is0Y3e"
      },
      "outputs": [],
      "source": [
        "import seaborn as sns\n",
        "import matplotlib.pyplot as plt\n",
        "import pandas as pd\n",
        "from sklearn.linear_model import LinearRegression\n",
        "from sklearn import tree\n",
        "from sklearn.model_selection import train_test_split\n",
        "from sklearn.metrics import r2_score\n",
        "\n",
        "%matplotlib inline"
      ]
    },
    {
      "cell_type": "markdown",
      "metadata": {
        "id": "svA1dG8V0Y3e"
      },
      "source": [
        "# 1. Exploração de Dados\n",
        "\n",
        "Carregue o dataset e faça uma inspeção nas 15 primeiras linhas para identificação básica dos atributos.\n"
      ]
    },
    {
      "cell_type": "code",
      "execution_count": 90,
      "metadata": {
        "id": "i6rMzUDN0Y3f"
      },
      "outputs": [],
      "source": [
        "tabela = pd.read_csv('aptos.csv', sep=',')"
      ]
    },
    {
      "cell_type": "code",
      "source": [
        "tabela.head(15)"
      ],
      "metadata": {
        "id": "cpFWX8E19Fdy"
      },
      "execution_count": null,
      "outputs": []
    },
    {
      "cell_type": "code",
      "source": [
        "tabela.info()"
      ],
      "metadata": {
        "id": "pZce7HmkZT9U"
      },
      "execution_count": null,
      "outputs": []
    },
    {
      "cell_type": "code",
      "source": [
        "tabela = tabela.dropna(axis=0)"
      ],
      "metadata": {
        "id": "CXocxBT2ZWG1"
      },
      "execution_count": 93,
      "outputs": []
    },
    {
      "cell_type": "markdown",
      "metadata": {
        "id": "uiAgjLjn0Y3f"
      },
      "source": [
        "### `Pergunta:` Apresente uma breve descrição do significado de cada atributo:\n",
        "\n",
        "\n",
        "\n",
        "\n"
      ]
    },
    {
      "cell_type": "markdown",
      "metadata": {
        "id": "JNhYxGiZ0Y3g"
      },
      "source": [
        "**Resposta:**\n",
        "\n",
        "-   Metros: Tamanho em metros quadrados do apartamento\n",
        "-   Valor: Valor do apartamento\n",
        "-   Quartos: Número de quartos do apartamento\n",
        "-   Reformado: Validação de se o apartamento foi reformado (entre 1 e 0)\n",
        "-   Bairro: Nome do bairro onde se encontra o apartamento"
      ]
    },
    {
      "cell_type": "markdown",
      "metadata": {
        "id": "yr3uosRp0Y3g"
      },
      "source": [
        "**Pergunta:** Cite 2 cenários que podem fazer sentido na leitura dos dados apresentados."
      ]
    },
    {
      "cell_type": "markdown",
      "metadata": {
        "id": "31VXdVpi0Y3g"
      },
      "source": [
        "**Resposta:**\n",
        "\n",
        "1.  Eu acho que o tamanho em metros do apartamento possui presença majoritária no valor do mesmo.\n",
        "2.  Eu acho que o atributo Bairro funcionam como forte indicador do valor do apartamento."
      ]
    },
    {
      "cell_type": "markdown",
      "metadata": {
        "id": "7ET6eipr0Y3g"
      },
      "source": [
        "## 2. Análise descritiva de dados\n",
        "\n",
        "Faça uma análise exploratória dos dados. Utilize-se de gráficos e tabelas auxiliares, faça correlações entre os atributos.... Com o objetivo validar as afirmações levantadas acima."
      ]
    },
    {
      "cell_type": "code",
      "source": [
        "tabela['bairro'] = tabela['bairro'].astype(\"string\")"
      ],
      "metadata": {
        "id": "ZPvlZO4FLNPg"
      },
      "execution_count": 95,
      "outputs": []
    },
    {
      "cell_type": "code",
      "source": [
        "tabela1 = tabela.drop(columns=['bairro', 'reformado'])\n",
        "tabela2 = tabela.drop(columns=['reformado'])"
      ],
      "metadata": {
        "id": "hw6Grrd9Djhw"
      },
      "execution_count": 62,
      "outputs": []
    },
    {
      "cell_type": "code",
      "execution_count": null,
      "metadata": {
        "id": "s2azF1rb0Y3h"
      },
      "outputs": [],
      "source": [
        "sns.heatmap(data=tabela1.corr(), annot=True)"
      ]
    },
    {
      "cell_type": "code",
      "execution_count": null,
      "metadata": {
        "id": "cONUqNHI0Y3h"
      },
      "outputs": [],
      "source": [
        "fig, axes = plt.subplots(figsize=(22, 10), dpi=80)\n",
        "fig.suptitle('Relação entre Bairro e Valor')\n",
        "\n",
        "sns.boxplot(data=tabela2,\n",
        "            linewidth=0.7,\n",
        "            x='bairro',\n",
        "            y='valor'\n",
        "            )\n",
        "\n",
        "axes.set(xlabel='Bairro', ylabel='Valor')"
      ]
    },
    {
      "cell_type": "markdown",
      "metadata": {
        "id": "v34fYH460Y3h"
      },
      "source": [
        "### __(BONUS: 1 ponto extra.)__ Análise de Outliers\n",
        "*Esse é um ponto extra, faça se quiser...\n",
        "\n",
        "Realize a análise e o tratamento de **outliers**, como referência para estudo:\n",
        "\n",
        "* [link1](https://machinelearningmastery.com/model-based-outlier-detection-and-removal-in-python/)\n",
        "* [link2](https://towardsdatascience.com/4-machine-learning-techniques-for-outlier-detection-in-python-21e9cfacb81d)\n",
        "* [link3](https://minerandodados.com.br/tratando-outliers-python/)\n",
        "\n",
        "**Pergunta:** Foram localizados outliers? Qual o método de análise adotado? Se existe, como os dados foram tratados (foram removidos ou mantidos)? "
      ]
    },
    {
      "cell_type": "markdown",
      "metadata": {
        "id": "d2Oy24BS0Y3h"
      },
      "source": [
        "## 3. Desenvolvimento do Modelo"
      ]
    },
    {
      "cell_type": "markdown",
      "metadata": {
        "id": "DZ958gKG0Y3h"
      },
      "source": [
        "**Pergunta:** O conjunto de dados indica a aplicação de qual modelo de aprendizagem de maquina para determinação do valor de um imóvel? Por que ? "
      ]
    },
    {
      "cell_type": "markdown",
      "metadata": {
        "id": "xEi7HsZM0Y3i"
      },
      "source": [
        "**Resposta:**\n",
        "\n",
        "Aprendizado supervisionado, porque desta forma é possível utilizar parte dos dados de forma à treinar o algoritmo de inteligência artificial, e outra parte à testar sua precisão preditiva.\n"
      ]
    },
    {
      "cell_type": "markdown",
      "metadata": {
        "id": "bwb4RBHN0Y3i"
      },
      "source": [
        "**Pergunta:** Qual a técnica sugerida para este projeto?"
      ]
    },
    {
      "cell_type": "markdown",
      "metadata": {
        "id": "TDBwh21U0Y3i"
      },
      "source": [
        "**Resposta:**\n",
        "\n",
        "Regressão, porque um algoritmo de regressão é capaz de predizer um valor, desta forma posso utilizá-lo para prever um dado numérico, como o valor de um imóvel."
      ]
    },
    {
      "cell_type": "markdown",
      "metadata": {
        "id": "tuff0fCl0Y3i"
      },
      "source": [
        "**Pergunta:** Escolha 2 modelos de algoritmos para testar a performance de cada um deles."
      ]
    },
    {
      "cell_type": "markdown",
      "metadata": {
        "id": "l1AfgV8P0Y3i"
      },
      "source": [
        "**Resposta:**\n",
        "\n",
        "1. Regressão Linear\n",
        "2. Árvore de Regressão"
      ]
    },
    {
      "cell_type": "markdown",
      "metadata": {
        "id": "cv_P4ZDF0Y3i"
      },
      "source": [
        "__(BONUS: 1 ponto extra.)__ **Pergunta:** Explique como cada algoritmo funciona.\n"
      ]
    },
    {
      "cell_type": "markdown",
      "metadata": {
        "id": "s58ux1cS0Y3i"
      },
      "source": [
        "**Resposta:**\n",
        "\n",
        "1. O algoritimo de regressão linear projeta matematicamente uma linha usando como base os dados conhecidos e usa a linha para prever dados desconhecidos.\n",
        "2. O algoritmo de ávore de regressão busca dividir um conjunto de dados em subgrupos, ajustando uma constante para cada subgrupo e utiliza-a para prever dados em um subgrupo."
      ]
    },
    {
      "cell_type": "markdown",
      "metadata": {
        "id": "bXf_61Ra0Y3j"
      },
      "source": [
        "## 4. Treinamento e teste do modelo"
      ]
    },
    {
      "cell_type": "markdown",
      "metadata": {
        "id": "hzdz4acw0Y3j"
      },
      "source": [
        "Crie um subset dos dados apenas com os atributos que serão utilizados para o treinameno e teste do modelo. Divida o subset em conjunto de treinamento e teste."
      ]
    },
    {
      "cell_type": "markdown",
      "metadata": {
        "id": "VqrOXcZ-0Y3j"
      },
      "source": [
        "Faça o treinamento e teste dos 2 algoritmos escolhidos. Utilize uma métrica (ex. R2-score, RMSE e MAE...) para avaliar a performance dos modelos."
      ]
    },
    {
      "cell_type": "markdown",
      "metadata": {
        "id": "vql0kXfp0Y3j"
      },
      "source": [
        "### Algoritmo 1"
      ]
    },
    {
      "cell_type": "code",
      "execution_count": 119,
      "metadata": {
        "id": "zvjzSlTW0Y3j"
      },
      "outputs": [],
      "source": [
        "x1 = tabela.drop(columns=['valor', 'bairro'])\n",
        "y1 = tabela['valor']\n",
        "\n",
        "x1_train, x1_test, y1_train, y1_test = train_test_split(x1, y1, test_size = 0.2, random_state = 2)"
      ]
    },
    {
      "cell_type": "code",
      "source": [
        "LR = LinearRegression()\n",
        "\n",
        "LR.fit(x1_train, y1_train)"
      ],
      "metadata": {
        "id": "GWOdgl-QbCiM"
      },
      "execution_count": null,
      "outputs": []
    },
    {
      "cell_type": "code",
      "source": [
        "y1_predicao = LR.predict(x1_test)"
      ],
      "metadata": {
        "id": "mhij-afAbDOx"
      },
      "execution_count": 121,
      "outputs": []
    },
    {
      "cell_type": "code",
      "source": [
        "R2_1 = r2_score(y_true = y1_test,      \n",
        "              y_pred = y1_predicao) \n",
        "print('R2: ', R2_1)"
      ],
      "metadata": {
        "id": "J7Tu0a6UbF0o"
      },
      "execution_count": null,
      "outputs": []
    },
    {
      "cell_type": "markdown",
      "metadata": {
        "id": "G7Ou3-5G0Y3j"
      },
      "source": [
        "### Algoritmo 2"
      ]
    },
    {
      "cell_type": "code",
      "execution_count": 130,
      "metadata": {
        "id": "q3xpF5vz0Y3j"
      },
      "outputs": [],
      "source": [
        "x2 = tabela.drop(columns=['valor', 'bairro'])\n",
        "y2 = tabela['valor']\n",
        "\n",
        "x2_train, x2_test, y2_train, y2_test = train_test_split(x2, y2, test_size = 0.2, random_state = 99)"
      ]
    },
    {
      "cell_type": "code",
      "source": [
        "DTR = tree.DecisionTreeRegressor()\n",
        "\n",
        "DTR.fit(x2_train, y2_train)"
      ],
      "metadata": {
        "id": "HmY68I7Ac89w"
      },
      "execution_count": null,
      "outputs": []
    },
    {
      "cell_type": "code",
      "source": [
        "y2_predicao = DTR.predict(x2_test)"
      ],
      "metadata": {
        "id": "nyskTXp3c83g"
      },
      "execution_count": 132,
      "outputs": []
    },
    {
      "cell_type": "code",
      "source": [
        "R2_2 = r2_score(y_true = y2_test,      \n",
        "              y_pred = y2_predicao) \n",
        "print('R2: ', R2_2)"
      ],
      "metadata": {
        "id": "jceONrqYc8mk"
      },
      "execution_count": null,
      "outputs": []
    },
    {
      "cell_type": "markdown",
      "metadata": {
        "id": "LalkGFCl0Y3k"
      },
      "source": [
        "Sumarize na tabela abaixo os resultados obtidos para os conjuntos de dados de treino e de teste"
      ]
    },
    {
      "cell_type": "markdown",
      "metadata": {
        "id": "ySUURmZZ0Y3k"
      },
      "source": [
        "**Resposta:**\n",
        "\n",
        "|    | algoritmo1 | algoritmo2 |\n",
        "|:---:|:---:|:---:|\n",
        "| treino | X | X |\n",
        "| teste  | X | X |"
      ]
    },
    {
      "cell_type": "markdown",
      "metadata": {
        "id": "xwWq-IpB0Y3k"
      },
      "source": [
        "**Pergunta:** Qual dos algoritmos obteve um resultado melhor? Justifique\n",
        "\n",
        "**Resposta:** O algoritmo 1, usando a regressão linear, obteve um resultado melhor, porque a árvore de decisão possui alta variação, então poucas alterações em seu treino podem resultar em grandes mudanças em seus nós finais, deixando-as assim com uma precisão preditiva menor. "
      ]
    },
    {
      "cell_type": "code",
      "source": [
        "centro = tabela.loc[tabela['bairro']=='Centro']\n",
        "\n",
        "x3 = centro\n",
        "x3 = x3.drop(columns=['bairro', 'valor'])\n",
        "\n",
        "y3 = centro\n",
        "y3 = y3['valor']\n",
        "\n",
        "x3_train, x3_test, y3_train, y3_test = train_test_split(x3, y3, test_size = 0.2, random_state = 456)"
      ],
      "metadata": {
        "id": "bU-woqSNjF7s"
      },
      "execution_count": 147,
      "outputs": []
    },
    {
      "cell_type": "code",
      "source": [
        "LR3 = LinearRegression()\n",
        "\n",
        "LR3.fit(x3_train, y3_train)"
      ],
      "metadata": {
        "id": "zXCn9OKJlo5M"
      },
      "execution_count": null,
      "outputs": []
    },
    {
      "cell_type": "code",
      "source": [
        "y3_predicao = LR3.predict(x3_test)"
      ],
      "metadata": {
        "id": "vIdybKoklu3P"
      },
      "execution_count": 149,
      "outputs": []
    },
    {
      "cell_type": "code",
      "source": [
        "R2_3 = r2_score(y_true = y3_test,      \n",
        "              y_pred = y3_predicao) \n",
        "print('R2: ', R2_3)"
      ],
      "metadata": {
        "id": "GMSUSuu3l-bC"
      },
      "execution_count": null,
      "outputs": []
    },
    {
      "cell_type": "markdown",
      "metadata": {
        "id": "C0EwVUBN0Y3k"
      },
      "source": [
        "## Modelo de produção: Teste com novos dados\n",
        "\n",
        "Use seu modelo treinado para determinar: \n",
        "\n",
        "**`Quanto vale um apartamento de 72m2 com 2 quartos, 2 vagas, reformado no Centro?`**"
      ]
    },
    {
      "cell_type": "code",
      "source": [
        "dado = pd.DataFrame({\n",
        "    'metros': [72],\n",
        "    'quartos': [2],\n",
        "    'vagas': [2],\n",
        "    'reformado': [1.0]\n",
        "})\n",
        "\n",
        "pred_Final = LR3.predict(dado)\n",
        "print(pred_Final)"
      ],
      "metadata": {
        "id": "jojxW6-cl6zS"
      },
      "execution_count": null,
      "outputs": []
    },
    {
      "cell_type": "markdown",
      "metadata": {
        "id": "0DtVOCDh0Y3k"
      },
      "source": [
        "## 6. Conclusões finais\n",
        "\n",
        "Ufa!!... Chegamos ao final. Parabéns! De forma simplificada e completa, passamos por todas as etapas de um projeto de aprendizado de maquina. Outras etapas podem ser adicionadas no tratamento dos dados e desenvolvimento do modelo.\n"
      ]
    },
    {
      "cell_type": "markdown",
      "metadata": {
        "id": "McwuQDHU0Y3l"
      },
      "source": [
        "**Pergunta:**: O modelo desenvolvido obteve um resultado satisfatório? Justifique:\n",
        "\n",
        "**Resposta**: Acredito que sim, eu preferi fazer três algoritmos, para deixá-los separados por função, já que a última pergunta exigia o valor de um apartamento com certas informações e em um bairro específico, então eu fiz dois capazes de preditar o valor, sem considerar o bairro, e um treinado para analisar e prever o valor do apartamento em apenas um bairro. "
      ]
    },
    {
      "cell_type": "markdown",
      "metadata": {
        "id": "RfA2GQMM0Y3l"
      },
      "source": [
        "**Pergunta:**: O que faria diferente para melhorar resultado obtido? Justifique:\n",
        "\n",
        "**Resposta**: Acredito que consegui um desempenho suficiente na prova em geral, então não mudaria nada.\n",
        "\n",
        "\n",
        "\n",
        "\n"
      ]
    }
  ],
  "metadata": {
    "interpreter": {
      "hash": "916dbcbb3f70747c44a77c7bcd40155683ae19c65e1c03b4aa3499c5328201f1"
    },
    "kernelspec": {
      "display_name": "Python 3 (ipykernel)",
      "language": "python",
      "name": "python3"
    },
    "language_info": {
      "codemirror_mode": {
        "name": "ipython",
        "version": 3
      },
      "file_extension": ".py",
      "mimetype": "text/x-python",
      "name": "python",
      "nbconvert_exporter": "python",
      "pygments_lexer": "ipython3",
      "version": "3.10.2"
    },
    "colab": {
      "provenance": []
    }
  },
  "nbformat": 4,
  "nbformat_minor": 0
}